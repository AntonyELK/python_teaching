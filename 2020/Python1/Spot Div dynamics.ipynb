{
 "cells": [
  {
   "cell_type": "markdown",
   "metadata": {
    "hideCode": true
   },
   "source": [
    "### Study of Eurostoxx Spot Dividend Dynamics"
   ]
  },
  {
   "cell_type": "markdown",
   "metadata": {},
   "source": [
    "##### Starting from time series regarding the Eurostoxx spot Index and Eurostoxx Dividend Futures index, the goal of this study is to highlight the presence of a dividend slope and propose a modelling of this slope. We will also discuss what are the impacts of this slope from a risk management perspective."
   ]
  },
  {
   "cell_type": "markdown",
   "metadata": {},
   "source": [
    "##### Import the pandas package and load the SX5E spot and Div futures STOXX50E.csv / div_futures_sx5e.csv as dataframes"
   ]
  },
  {
   "cell_type": "code",
   "execution_count": 1,
   "metadata": {
    "hideCode": false,
    "hidePrompt": false,
    "scrolled": true
   },
   "outputs": [
    {
     "data": {
      "text/html": [
       "<div>\n",
       "<style scoped>\n",
       "    .dataframe tbody tr th:only-of-type {\n",
       "        vertical-align: middle;\n",
       "    }\n",
       "\n",
       "    .dataframe tbody tr th {\n",
       "        vertical-align: top;\n",
       "    }\n",
       "\n",
       "    .dataframe thead th {\n",
       "        text-align: right;\n",
       "    }\n",
       "</style>\n",
       "<table border=\"1\" class=\"dataframe\">\n",
       "  <thead>\n",
       "    <tr style=\"text-align: right;\">\n",
       "      <th></th>\n",
       "      <th>future_maturity_date</th>\n",
       "      <th>observation_date</th>\n",
       "      <th>time_to_maturity</th>\n",
       "      <th>price</th>\n",
       "    </tr>\n",
       "  </thead>\n",
       "  <tbody>\n",
       "    <tr>\n",
       "      <th>0</th>\n",
       "      <td>2014-12-31 12:00:00</td>\n",
       "      <td>2014-12-19 12:00:00</td>\n",
       "      <td>0.032877</td>\n",
       "      <td>114.07</td>\n",
       "    </tr>\n",
       "    <tr>\n",
       "      <th>1</th>\n",
       "      <td>2014-12-31 12:00:00</td>\n",
       "      <td>2014-12-18 12:00:00</td>\n",
       "      <td>0.035616</td>\n",
       "      <td>114.10</td>\n",
       "    </tr>\n",
       "    <tr>\n",
       "      <th>2</th>\n",
       "      <td>2014-12-31 12:00:00</td>\n",
       "      <td>2014-12-17 12:00:00</td>\n",
       "      <td>0.038356</td>\n",
       "      <td>114.10</td>\n",
       "    </tr>\n",
       "    <tr>\n",
       "      <th>3</th>\n",
       "      <td>2014-12-31 12:00:00</td>\n",
       "      <td>2014-12-16 12:00:00</td>\n",
       "      <td>0.041096</td>\n",
       "      <td>114.10</td>\n",
       "    </tr>\n",
       "    <tr>\n",
       "      <th>4</th>\n",
       "      <td>2014-12-31 12:00:00</td>\n",
       "      <td>2014-12-15 12:00:00</td>\n",
       "      <td>0.043836</td>\n",
       "      <td>114.10</td>\n",
       "    </tr>\n",
       "  </tbody>\n",
       "</table>\n",
       "</div>"
      ],
      "text/plain": [
       "  future_maturity_date     observation_date  time_to_maturity   price\n",
       "0  2014-12-31 12:00:00  2014-12-19 12:00:00          0.032877  114.07\n",
       "1  2014-12-31 12:00:00  2014-12-18 12:00:00          0.035616  114.10\n",
       "2  2014-12-31 12:00:00  2014-12-17 12:00:00          0.038356  114.10\n",
       "3  2014-12-31 12:00:00  2014-12-16 12:00:00          0.041096  114.10\n",
       "4  2014-12-31 12:00:00  2014-12-15 12:00:00          0.043836  114.10"
      ]
     },
     "execution_count": 1,
     "metadata": {},
     "output_type": "execute_result"
    }
   ],
   "source": [
    "import pandas as pd\n",
    "import numpy as np\n",
    "from scipy import stats\n",
    "import matplotlib.pyplot as plt\n",
    "spot_csv=r\"C:\\Users\\jeand\\Google Drive\\Skema - Python applied to Finance\\2020\\Python 1\\STOXX50E.csv\"\n",
    "div_csv=r\"C:\\Users\\jeand\\Google Drive\\Skema - Python applied to Finance\\2020\\Python 1\\div_futures_sx5e.csv\"\n",
    "\n",
    "df_spot=pd.read_csv(spot_csv)\n",
    "df_div_futures=pd.read_csv(div_csv)\n",
    "\n",
    "df_div_futures.head(5)"
   ]
  },
  {
   "cell_type": "markdown",
   "metadata": {},
   "source": [
    "##### Create a list common_dates with the observation dates common to both files"
   ]
  },
  {
   "cell_type": "code",
   "execution_count": 3,
   "metadata": {
    "hideCode": false,
    "scrolled": true
   },
   "outputs": [],
   "source": [
    "list_dates_spot=list(df_spot[\"Date\"])\n",
    "list_dates_spot # Get the list of dates for SX5E spot\n",
    "\n",
    "df_div_futures[\"observation_date\"]=[x[0:10] for x in list(df_div_futures[\"observation_date\"])] # convert the date to a YYYY-MM-DD format\n",
    "list_dates_futures=list(df_div_futures[\"observation_date\"]) # Get the list of dates for SX5E DIV\n",
    "\n",
    "common_dates=[x for x in list_dates_spot if x in list_dates_futures] # Find the common dates"
   ]
  },
  {
   "cell_type": "markdown",
   "metadata": {},
   "source": [
    "##### Build a Dataframe df_sliding_ts which contains the historical time series of spot and sliding divident futures from year 1 to year 5. To convert converging prices to sliding, you can use the np.interp function."
   ]
  },
  {
   "cell_type": "code",
   "execution_count": 4,
   "metadata": {
    "hideCode": false,
    "scrolled": true
   },
   "outputs": [
    {
     "data": {
      "text/html": [
       "<div>\n",
       "<style scoped>\n",
       "    .dataframe tbody tr th:only-of-type {\n",
       "        vertical-align: middle;\n",
       "    }\n",
       "\n",
       "    .dataframe tbody tr th {\n",
       "        vertical-align: top;\n",
       "    }\n",
       "\n",
       "    .dataframe thead th {\n",
       "        text-align: right;\n",
       "    }\n",
       "</style>\n",
       "<table border=\"1\" class=\"dataframe\">\n",
       "  <thead>\n",
       "    <tr style=\"text-align: right;\">\n",
       "      <th></th>\n",
       "      <th>spot</th>\n",
       "      <th>div_1Y</th>\n",
       "      <th>div_2Y</th>\n",
       "      <th>div_3Y</th>\n",
       "      <th>div_4Y</th>\n",
       "      <th>div_5Y</th>\n",
       "    </tr>\n",
       "  </thead>\n",
       "  <tbody>\n",
       "    <tr>\n",
       "      <th>2013-09-09</th>\n",
       "      <td>2798.310059</td>\n",
       "      <td>107.6</td>\n",
       "      <td>105.045479</td>\n",
       "      <td>102.109836</td>\n",
       "      <td>99.718356</td>\n",
       "      <td>97.487123</td>\n",
       "    </tr>\n",
       "    <tr>\n",
       "      <th>2013-09-10</th>\n",
       "      <td>2851.399902</td>\n",
       "      <td>107.9</td>\n",
       "      <td>105.404658</td>\n",
       "      <td>102.640984</td>\n",
       "      <td>100.450137</td>\n",
       "      <td>98.281096</td>\n",
       "    </tr>\n",
       "    <tr>\n",
       "      <th>2013-09-11</th>\n",
       "      <td>2863.439941</td>\n",
       "      <td>108.1</td>\n",
       "      <td>105.455616</td>\n",
       "      <td>102.565027</td>\n",
       "      <td>100.205753</td>\n",
       "      <td>97.905753</td>\n",
       "    </tr>\n",
       "    <tr>\n",
       "      <th>2013-09-12</th>\n",
       "      <td>2862.070068</td>\n",
       "      <td>108.0</td>\n",
       "      <td>105.484932</td>\n",
       "      <td>102.797541</td>\n",
       "      <td>100.360274</td>\n",
       "      <td>98.069041</td>\n",
       "    </tr>\n",
       "    <tr>\n",
       "      <th>2013-09-13</th>\n",
       "      <td>2867.110107</td>\n",
       "      <td>108.1</td>\n",
       "      <td>105.575068</td>\n",
       "      <td>102.821311</td>\n",
       "      <td>100.283562</td>\n",
       "      <td>98.032877</td>\n",
       "    </tr>\n",
       "  </tbody>\n",
       "</table>\n",
       "</div>"
      ],
      "text/plain": [
       "                   spot  div_1Y      div_2Y      div_3Y      div_4Y     div_5Y\n",
       "2013-09-09  2798.310059   107.6  105.045479  102.109836   99.718356  97.487123\n",
       "2013-09-10  2851.399902   107.9  105.404658  102.640984  100.450137  98.281096\n",
       "2013-09-11  2863.439941   108.1  105.455616  102.565027  100.205753  97.905753\n",
       "2013-09-12  2862.070068   108.0  105.484932  102.797541  100.360274  98.069041\n",
       "2013-09-13  2867.110107   108.1  105.575068  102.821311  100.283562  98.032877"
      ]
     },
     "execution_count": 4,
     "metadata": {},
     "output_type": "execute_result"
    }
   ],
   "source": [
    "df_sliding_ts=pd.DataFrame(columns=[\"spot\", \"div_1Y\", \"div_2Y\", \"div_3Y\", \"div_4Y\", \"div_5Y\"])\n",
    "for date in common_dates:\n",
    "    temp_list=[]\n",
    "    spot=float(df_spot[df_spot[\"Date\"]==date][\"Close\"])\n",
    "    temp_list.append(spot)\n",
    "    df_div=df_div_futures[df_div_futures[\"observation_date\"]==date]\n",
    "    for i in range(1,6):\n",
    "        div=np.interp(i, df_div[\"time_to_maturity\"], df_div[\"price\"])\n",
    "        temp_list.append(div)\n",
    "    df_sliding_ts.loc[date] = temp_list\n",
    "df_sliding_ts=df_sliding_ts.dropna()  \n",
    "df_sliding_ts.head(5)"
   ]
  },
  {
   "cell_type": "markdown",
   "metadata": {},
   "source": [
    "##### Using Numpy, build a dataframe df_sliding_log_returns with the log returns of the dataframe df_sliding_ts"
   ]
  },
  {
   "cell_type": "code",
   "execution_count": 5,
   "metadata": {
    "hideCode": false,
    "scrolled": true
   },
   "outputs": [
    {
     "data": {
      "text/html": [
       "<div>\n",
       "<style scoped>\n",
       "    .dataframe tbody tr th:only-of-type {\n",
       "        vertical-align: middle;\n",
       "    }\n",
       "\n",
       "    .dataframe tbody tr th {\n",
       "        vertical-align: top;\n",
       "    }\n",
       "\n",
       "    .dataframe thead th {\n",
       "        text-align: right;\n",
       "    }\n",
       "</style>\n",
       "<table border=\"1\" class=\"dataframe\">\n",
       "  <thead>\n",
       "    <tr style=\"text-align: right;\">\n",
       "      <th></th>\n",
       "      <th>spot</th>\n",
       "      <th>div_1Y</th>\n",
       "      <th>div_2Y</th>\n",
       "      <th>div_3Y</th>\n",
       "      <th>div_4Y</th>\n",
       "      <th>div_5Y</th>\n",
       "    </tr>\n",
       "  </thead>\n",
       "  <tbody>\n",
       "    <tr>\n",
       "      <th>2013-09-10</th>\n",
       "      <td>0.018794</td>\n",
       "      <td>0.002784</td>\n",
       "      <td>0.003413</td>\n",
       "      <td>0.005188</td>\n",
       "      <td>0.007312</td>\n",
       "      <td>0.008111</td>\n",
       "    </tr>\n",
       "    <tr>\n",
       "      <th>2013-09-11</th>\n",
       "      <td>0.004214</td>\n",
       "      <td>0.001852</td>\n",
       "      <td>0.000483</td>\n",
       "      <td>-0.000740</td>\n",
       "      <td>-0.002436</td>\n",
       "      <td>-0.003826</td>\n",
       "    </tr>\n",
       "    <tr>\n",
       "      <th>2013-09-12</th>\n",
       "      <td>-0.000479</td>\n",
       "      <td>-0.000925</td>\n",
       "      <td>0.000278</td>\n",
       "      <td>0.002264</td>\n",
       "      <td>0.001541</td>\n",
       "      <td>0.001666</td>\n",
       "    </tr>\n",
       "    <tr>\n",
       "      <th>2013-09-13</th>\n",
       "      <td>0.001759</td>\n",
       "      <td>0.000925</td>\n",
       "      <td>0.000854</td>\n",
       "      <td>0.000231</td>\n",
       "      <td>-0.000765</td>\n",
       "      <td>-0.000369</td>\n",
       "    </tr>\n",
       "    <tr>\n",
       "      <th>2013-09-16</th>\n",
       "      <td>0.009556</td>\n",
       "      <td>0.000925</td>\n",
       "      <td>0.001338</td>\n",
       "      <td>0.001065</td>\n",
       "      <td>-0.001331</td>\n",
       "      <td>-0.000774</td>\n",
       "    </tr>\n",
       "  </tbody>\n",
       "</table>\n",
       "</div>"
      ],
      "text/plain": [
       "                spot    div_1Y    div_2Y    div_3Y    div_4Y    div_5Y\n",
       "2013-09-10  0.018794  0.002784  0.003413  0.005188  0.007312  0.008111\n",
       "2013-09-11  0.004214  0.001852  0.000483 -0.000740 -0.002436 -0.003826\n",
       "2013-09-12 -0.000479 -0.000925  0.000278  0.002264  0.001541  0.001666\n",
       "2013-09-13  0.001759  0.000925  0.000854  0.000231 -0.000765 -0.000369\n",
       "2013-09-16  0.009556  0.000925  0.001338  0.001065 -0.001331 -0.000774"
      ]
     },
     "execution_count": 5,
     "metadata": {},
     "output_type": "execute_result"
    }
   ],
   "source": [
    "df_sliding_log_returns=pd.DataFrame(columns=list(df_sliding_ts.columns))\n",
    "for column in list(df_sliding_ts.columns):\n",
    "    df_sliding_log_returns[column]=np.log(df_sliding_ts[column]) - np.log(df_sliding_ts[column].shift(1))\n",
    "df_sliding_log_returns=df_sliding_log_returns.dropna()\n",
    "df_sliding_log_returns.head(5)"
   ]
  },
  {
   "cell_type": "markdown",
   "metadata": {},
   "source": [
    "##### Using stats.linregress, compute the slope and R value of the linear regression between the spot returns and the 1Y dividends"
   ]
  },
  {
   "cell_type": "code",
   "execution_count": 6,
   "metadata": {
    "hideCode": false
   },
   "outputs": [
    {
     "name": "stdout",
     "output_type": "stream",
     "text": [
      "The slope is 0.11929134263974218\n",
      "The R Value is 0.17956268315989687\n"
     ]
    }
   ],
   "source": [
    "slope, intercept, r_value, p_value, std_err = stats.linregress(df_sliding_log_returns[\"spot\"], df_sliding_log_returns[\"div_1Y\"])\n",
    "print(\"The slope is \"+str(slope))\n",
    "print(\"The R Value is \"+str(r_value))"
   ]
  },
  {
   "cell_type": "code",
   "execution_count": 7,
   "metadata": {
    "hideCode": false,
    "scrolled": true
   },
   "outputs": [
    {
     "data": {
      "text/plain": [
       "Text(0.5, 1.0, '1Y Dividend Future Returns = f(Spot returns)')"
      ]
     },
     "execution_count": 7,
     "metadata": {},
     "output_type": "execute_result"
    },
    {
     "data": {
      "image/png": "[encoded data removed]",
      "text/plain": [
       "<Figure size 432x288 with 1 Axes>"
      ]
     },
     "metadata": {
      "needs_background": "light"
     },
     "output_type": "display_data"
    }
   ],
   "source": [
    "plt.scatter(df_sliding_log_returns[\"spot\"], df_sliding_log_returns[\"div_1Y\"], c = 'red')\n",
    "plt.title(\"1Y Dividend Future Returns = f(Spot returns)\")"
   ]
  },
  {
   "cell_type": "markdown",
   "metadata": {},
   "source": [
    "##### Repeat the same process between the spot and the 5Y maturity futures"
   ]
  },
  {
   "cell_type": "code",
   "execution_count": 8,
   "metadata": {
    "hideCode": true
   },
   "outputs": [
    {
     "name": "stdout",
     "output_type": "stream",
     "text": [
      "The slope is 0.7997387751989525\n",
      "The R Value is 0.8237152389067246\n"
     ]
    }
   ],
   "source": [
    "slope, intercept, r_value, p_value, std_err = stats.linregress(df_sliding_log_returns[\"spot\"], df_sliding_log_returns[\"div_5Y\"])\n",
    "print(\"The slope is \"+str(slope))\n",
    "print(\"The R Value is \"+str(r_value))\n"
   ]
  },
  {
   "cell_type": "code",
   "execution_count": 9,
   "metadata": {
    "hideCode": true
   },
   "outputs": [
    {
     "data": {
      "text/plain": [
       "Text(0.5, 1.0, '5Y Dividend Future Returns = f(Spot returns)')"
      ]
     },
     "execution_count": 9,
     "metadata": {},
     "output_type": "execute_result"
    },
    {
     "data": {
      "image/png": "[encoded data removed]",
      "text/plain": [
       "<Figure size 432x288 with 1 Axes>"
      ]
     },
     "metadata": {
      "needs_background": "light"
     },
     "output_type": "display_data"
    }
   ],
   "source": [
    "plt.scatter(df_sliding_log_returns[\"spot\"], df_sliding_log_returns[\"div_5Y\"], c = 'red')\n",
    "plt.title(\"5Y Dividend Future Returns = f(Spot returns)\")"
   ]
  },
  {
   "cell_type": "markdown",
   "metadata": {},
   "source": [
    "##### Plot the shape of the slope between spot and dividend returns for each maturity between 1Y and 5Y"
   ]
  },
  {
   "cell_type": "code",
   "execution_count": 10,
   "metadata": {
    "hideCode": false
   },
   "outputs": [
    {
     "data": {
      "image/png": "[encoded data removed]",
      "text/plain": [
       "<Figure size 432x288 with 1 Axes>"
      ]
     },
     "metadata": {
      "needs_background": "light"
     },
     "output_type": "display_data"
    }
   ],
   "source": [
    "list_maturity=[1, 2, 3, 4, 5]\n",
    "list_slopes=[]\n",
    "for maturity in list_maturity:\n",
    "    slope, intercept, r_value, p_value, std_err = stats.linregress(df_sliding_log_returns[\"spot\"], df_sliding_log_returns[\"div_\"+str(maturity)+\"Y\"])\n",
    "    list_slopes.append(slope)\n",
    "                                                                   \n",
    "fig, ax = plt.subplots()\n",
    "ax.plot(list_maturity, list_slopes)  \n",
    "ax.set(xlabel='Div Maturity (years)', ylabel='Dividend Slope',\n",
    "       title='Div Slope by maturity')\n",
    "ax.grid()\n"
   ]
  },
  {
   "cell_type": "markdown",
   "metadata": {
    "hideCode": false
   },
   "source": [
    "##### Based on those observations, what can you conclude regarding the spot / div dynamics ?\n",
    "##### What is the impact in terms of risk management ?\n",
    "##### Could you propose a model for dividends which takes into account dividend slope ?\n",
    "##### Is Dividend Slope and observable market data ?\n",
    "##### What is the impact from a control perspective  ?"
   ]
  }
 ],
 "metadata": {
  "celltoolbar": "Hide code",
  "kernelspec": {
   "display_name": "Python 3",
   "language": "python",
   "name": "python3"
  },
  "language_info": {
   "codemirror_mode": {
    "name": "ipython",
    "version": 3
   },
   "file_extension": ".py",
   "mimetype": "text/x-python",
   "name": "python",
   "nbconvert_exporter": "python",
   "pygments_lexer": "ipython3",
   "version": "3.7.1"
  }
 },
 "nbformat": 4,
 "nbformat_minor": 2
}
