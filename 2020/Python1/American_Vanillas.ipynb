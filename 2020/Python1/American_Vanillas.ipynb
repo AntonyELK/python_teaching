{
 "cells": [
  {
   "cell_type": "markdown",
   "metadata": {},
   "source": [
    "# Recusive algorithm to price American option with a binomial tree\n",
    "THe below program prices American option using a recursive algorithm"
   ]
  },
  {
   "cell_type": "markdown",
   "metadata": {},
   "source": [
    "## Option parameters"
   ]
  },
  {
   "cell_type": "code",
   "execution_count": 8,
   "metadata": {
    "hideCode": false,
    "hideOutput": false,
    "hidePrompt": false
   },
   "outputs": [
    {
     "name": "stdout",
     "output_type": "stream",
     "text": [
      "Enter the timestep in days: 1\n",
      "Enter the initial asset price: 100\n",
      "Enter the risk-free discount rate: 0.01\n",
      "Enter the option strike price: 90\n",
      "Enter the asset growth probability p: 0.4\n",
      "Enter the volatility: 0.3\n",
      "Enter the number of timesteps until expiration: 252\n",
      "Is this a call or put option? (C/P) C\n"
     ]
    }
   ],
   "source": [
    "#Import packages\n",
    "from math import exp, sqrt\n",
    "\n",
    "\n",
    "# Option parameters \n",
    "dt = float(input(\"Enter the timestep in days: \"))/252.0 #ex:1\n",
    "S = float(input(\"Enter the initial asset price: \")) #ex:100\n",
    "r = float(input(\"Enter the risk-free discount rate: \")) #ex:0.01\n",
    "K = float(input(\"Enter the option strike price: \")) #ex:100\n",
    "p = float(input(\"Enter the asset growth probability p: \")) #ex:0.2\n",
    "vol = float(input(\"Enter the volatility: \")) #ex:0.3\n",
    "N = int(input(\"Enter the number of timesteps until expiration: \")) # ex:252\n",
    "call = input(\"Is this a call or put option? (C/P) \") #ex:call\n",
    "\n",
    "\n",
    "\n"
   ]
  },
  {
   "cell_type": "markdown",
   "metadata": {
    "hideCode": true,
    "hideOutput": true
   },
   "source": [
    "## Building the binomial tree: spot value for each node\n",
    "If the spot goes up , we consider that: $S_{t+1}=S_{t} \\times e^{\\sigma \\times \\sqrt(dt)}$\n",
    "The function spot_price returns the level of the spot given the time $t$ and the number of spot growths $n_{up}$"
   ]
  },
  {
   "cell_type": "code",
   "execution_count": 9,
   "metadata": {
    "hideCode": false,
    "hidePrompt": true
   },
   "outputs": [],
   "source": [
    "u=exp(vol*sqrt(dt)) # When spot goes up in the american tree we have: S(t+1)=u * S(t)\n",
    "\n",
    "def spot_price(t, n_up):\n",
    "    return S * (u ** (2 * n_up - t))"
   ]
  },
  {
   "cell_type": "markdown",
   "metadata": {},
   "source": [
    "## Recursive algorithm to price the option"
   ]
  },
  {
   "cell_type": "code",
   "execution_count": 7,
   "metadata": {},
   "outputs": [
    {
     "name": "stdout",
     "output_type": "stream",
     "text": [
      "The price of the american option is: \n",
      " 9.773106189942265\n"
     ]
    }
   ],
   "source": [
    "def binomial_price_recursive(t, n_up): #Main pricing function using a recursive algorithm   \n",
    "    stockPrice = spot_price(t, n_up) # Get the spot price given the time and the number of growths\n",
    "    if call==\"call\": exerciseProfit = max(0, stockPrice - K) # computes the intrinsic value\n",
    "    else:    exerciseProfit = max(0, K - stockPrice)\n",
    "    if t == N: \n",
    "        return exerciseProfit # If T=Maturity the function returns the intrinsic value\n",
    "    else:\n",
    "\n",
    "        ZC = exp(-r * dt) #Discount factor\n",
    "        expected = p * binomial_price_recursive(t + 1, n_up + 1) + (1 - p) * binomial_price_recursive(t + 1, n_up) # Price expectation at time t+1\n",
    "        binomial = ZC * expected # Dicounted price expectation\n",
    "        return max(binomial, exerciseProfit) # Maximum between the intrinsic value and the expected discounted price at t+1\n",
    "\n",
    "print(f\"The price of the american option is: \\n {binomial_price_recursive(0,0)}\")\n"
   ]
  }
 ],
 "metadata": {
  "celltoolbar": "Hide code",
  "kernelspec": {
   "display_name": "Python 3",
   "language": "python",
   "name": "python3"
  },
  "language_info": {
   "codemirror_mode": {
    "name": "ipython",
    "version": 3
   },
   "file_extension": ".py",
   "mimetype": "text/x-python",
   "name": "python",
   "nbconvert_exporter": "python",
   "pygments_lexer": "ipython3",
   "version": "3.7.1"
  }
 },
 "nbformat": 4,
 "nbformat_minor": 2
}
